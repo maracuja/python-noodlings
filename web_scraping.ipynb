{
 "cells": [
  {
   "cell_type": "markdown",
   "source": [
    "## Web Scraping\n",
    "\n",
    "https://realpython.com/beautiful-soup-web-scraper-python/"
   ],
   "metadata": {
    "collapsed": false
   },
   "id": "580274a4e0fe3e0d"
  },
  {
   "cell_type": "code",
   "execution_count": 5,
   "outputs": [],
   "source": [
    "import html\n",
    "from functools import lru_cache\n",
    "import requests\n",
    "from bs4 import BeautifulSoup"
   ],
   "metadata": {
    "collapsed": false,
    "ExecuteTime": {
     "end_time": "2023-10-10T15:31:00.368685Z",
     "start_time": "2023-10-10T15:31:00.361843Z"
    }
   },
   "id": "initial_id"
  },
  {
   "cell_type": "code",
   "execution_count": 6,
   "outputs": [],
   "source": [
    "def get_url(url: str):\n",
    "    page = requests.get(url)\n",
    "    soup = BeautifulSoup(page.content, \"html.parser\")\n",
    "    return soup"
   ],
   "metadata": {
    "collapsed": false,
    "ExecuteTime": {
     "end_time": "2023-10-10T15:31:01.220528Z",
     "start_time": "2023-10-10T15:31:01.214087Z"
    }
   },
   "id": "3e7ab8fe76b57aae"
  },
  {
   "cell_type": "code",
   "execution_count": 9,
   "outputs": [],
   "source": [
    "url = \"https://www.language.berkeley.edu/Korean/10/lesson01/01_vocab_only.htm\"\n",
    "soup_doc = get_url(url)"
   ],
   "metadata": {
    "collapsed": false,
    "ExecuteTime": {
     "end_time": "2023-10-10T15:35:52.499574Z",
     "start_time": "2023-10-10T15:35:51.562365Z"
    }
   },
   "id": "7d2418183caf0043"
  },
  {
   "cell_type": "code",
   "execution_count": 24,
   "outputs": [],
   "source": [
    "tds = soup_doc.find(\"table\", cellspacing=5, cellpadding=10).find_all(\"td\")\n",
    "contents = [td.get_text().replace('\\xa0', '').strip() for td in tds]\n",
    "    "
   ],
   "metadata": {
    "collapsed": false,
    "ExecuteTime": {
     "end_time": "2023-10-10T15:50:18.586259Z",
     "start_time": "2023-10-10T15:50:18.581539Z"
    }
   },
   "id": "613cb284c7dbc999"
  },
  {
   "cell_type": "code",
   "execution_count": 34,
   "outputs": [],
   "source": [
    "pairs = list(zip(contents[1::2], contents[::2]))"
   ],
   "metadata": {
    "collapsed": false,
    "ExecuteTime": {
     "end_time": "2023-10-10T16:03:41.348738Z",
     "start_time": "2023-10-10T16:03:41.337147Z"
    }
   },
   "id": "4f7fbede048c0ada"
  },
  {
   "cell_type": "code",
   "execution_count": 35,
   "outputs": [
    {
     "data": {
      "text/plain": "[('to bring', '가지고 오다'),\n ('almost, mostly', '거의'),\n ('immediately', '곧'),\n ('airport', '공항'),\n (\"to be all right; 괜찮아요. That's OK. No Problem.\", '괜찮다'),\n ('cloud', '구름'),\n ('way, street; 가는 길 on the way to', '길'),\n ('to fly', '날다'),\n ('noon nap', '낮잠'),\n ('to be wide; 넓은 wide', '넓다'),\n ('to be frustrated', '답답하다'),\n ('to, versus; 천 대 일 1000 : 1', '대'),\n ('to arrive; 도착 arrival', '도착하다'),\n ('to change, to exchange', '바꾸다'),\n ('outside', '밖'),\n ('to receive', '받다'),\n ('to learn', '배우다'),\n ('hundred', '백'),\n ('to be seen; 보다 to look at, to watch', '보이다'),\n ('dollar', '-불;  달러\\r\\n [딸라]'),\n ('airplane', '비행기'),\n ('empty; 비다 to be empty', '빈'),\n ('city of Seoul', '서울'),\n ('customs office', '세관'),\n ('to be loud, to be noisy', '시끄럽다'),\n ('to begin, to start; 시작 beginning, starting', '시작하다'),\n ('baby (애기 for colloquial)', '아기'),\n ('contraction of 아니오', '아뇨'),\n ('to be beautiful', '아름답다'),\n ('very', '아주'),\n ('still, yet', '아직'),\n ('to sit', '앉다 [안따]'),\n ('summer vacation', '여름 방학'),\n ('travel', '여행'),\n (\"traveler's check\", '여행자 수표'),\n ('right side', '오른쪽; 바른쪽'),\n ('left side', '왼쪽'),\n ('first of all, before other things', '우선'),\n ('to cry', '울다'),\n ('like this', '이렇게'),\n (\"self, one's own\", '자기'),\n ('seat, place, room', '자리'),\n ('young; 젊다 to be young', '젊은 [절믄]'),\n ('seat', '좌석'),\n ('middle age', '중년'),\n ('to be good-natured, to be good-hearted', '착하다\\r\\n [차카다]'),\n ('window', '창; 창문; 유리창'),\n ('first; 처음으로 for the first time', '처음'),\n ('to start, to depart; 출발 starting, departure', '출발하다'),\n ('to be big, to be large', '크다'),\n ('to ride, to get on', '타다'),\n ('to be born', '태어나다'),\n ('taxi', '택시'),\n ('to pass, to pass through', '통과하다'),\n ('comfortably; 편하다 to be comfortable', '편히'),\n ('to be needed, to be necessary', '필요하다'),\n ('sky', '하늘'),\n ('about; 한 이삼일 about two or three days', '한-'),\n ('cash', '현금'),\n (\"Hyun-bae (man's name)\", '현배'),\n ('exchange rate', '환율 [환뉼]'),\n ('exchange office', '환전소')]"
     },
     "execution_count": 35,
     "metadata": {},
     "output_type": "execute_result"
    }
   ],
   "source": [
    "pairs"
   ],
   "metadata": {
    "collapsed": false,
    "ExecuteTime": {
     "end_time": "2023-10-10T16:03:42.117284Z",
     "start_time": "2023-10-10T16:03:42.103212Z"
    }
   },
   "id": "c7b5d46a15b20371"
  },
  {
   "cell_type": "code",
   "execution_count": null,
   "outputs": [],
   "source": [],
   "metadata": {
    "collapsed": false
   },
   "id": "998dd61302d43a60"
  }
 ],
 "metadata": {
  "kernelspec": {
   "display_name": "Python 3",
   "language": "python",
   "name": "python3"
  },
  "language_info": {
   "codemirror_mode": {
    "name": "ipython",
    "version": 2
   },
   "file_extension": ".py",
   "mimetype": "text/x-python",
   "name": "python",
   "nbconvert_exporter": "python",
   "pygments_lexer": "ipython2",
   "version": "2.7.6"
  }
 },
 "nbformat": 4,
 "nbformat_minor": 5
}
