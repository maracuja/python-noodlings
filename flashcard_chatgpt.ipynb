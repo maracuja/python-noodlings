{
  "nbformat": 4,
  "nbformat_minor": 0,
  "metadata": {
    "colab": {
      "provenance": []
    },
    "kernelspec": {
      "name": "python3",
      "display_name": "Python 3"
    },
    "language_info": {
      "name": "python"
    }
  },
  "cells": [
    {
      "cell_type": "markdown",
      "source": [
        "## Using ChatGPT for vocab building source data\n",
        "### Reading\n",
        "- https://platform.openai.com/docs/api-reference/authentication\n",
        "- https://github.com/OthersideAI/chronology#main\n",
        "- https://www.analyticsvidhya.com/blog/2023/05/how-to-use-chatgpt-api-in-python/\n",
        "- https://betterprogramming.pub/return-json-from-gpt-65d40bfc2ef6\n",
        "\n",
        "### Setup"
      ],
      "metadata": {
        "id": "UynzETkKmjOG"
      }
    },
    {
      "cell_type": "code",
      "execution_count": null,
      "metadata": {
        "colab": {
          "base_uri": "https://localhost:8080/"
        },
        "id": "ho_Ow95qi64l",
        "outputId": "d3cd3b10-cc7d-4b64-fceb-c04a8d6c357f"
      },
      "outputs": [
        {
          "output_type": "stream",
          "name": "stdout",
          "text": [
            "Collecting python-dotenv\n",
            "  Downloading python_dotenv-1.0.0-py3-none-any.whl (19 kB)\n",
            "Installing collected packages: python-dotenv\n",
            "Successfully installed python-dotenv-1.0.0\n"
          ]
        }
      ],
      "source": [
        "!pip install python-dotenv\n",
        "!pip install openai"
      ]
    },
    {
      "cell_type": "code",
      "source": [
        "import openai\n",
        "import os\n",
        "from dotenv import load_dotenv, find_dotenv\n",
        "_ = load_dotenv(find_dotenv())\n",
        "\n",
        "openai.api_key = os.environ.get(\"OPENAI_API_KEY\")"
      ],
      "metadata": {
        "id": "DKrdLjyWi8nA"
      },
      "execution_count": null,
      "outputs": []
    },
    {
      "cell_type": "markdown",
      "source": [
        "### The call to ChatGPT"
      ],
      "metadata": {
        "id": "Kufl1gAWmqYF"
      }
    },
    {
      "cell_type": "code",
      "source": [
        "def get_completion(prompt, model=\"gpt-3.5-turbo\"):\n",
        "    messages = [{\"role\": \"user\", \"content\": prompt}]\n",
        "    response = openai.ChatCompletion.create(\n",
        "        model=model,\n",
        "        messages=messages,\n",
        "        temperature=0,\n",
        "    )\n",
        "    return response.choices[0].message[\"content\"]"
      ],
      "metadata": {
        "id": "Xb_oyuIPjIFg"
      },
      "execution_count": null,
      "outputs": []
    },
    {
      "cell_type": "markdown",
      "source": [
        "### Give it a list of words"
      ],
      "metadata": {
        "id": "kasDVpSXl5qb"
      }
    },
    {
      "cell_type": "code",
      "source": [
        "words = [\"ginger\", \"salt\", \"sugar\", \"chopsticks\", \"tofu\", \"soy sauce\", \"chilli oil\", \"chilli paste\"]"
      ],
      "metadata": {
        "id": "qHb-08dsl4yd"
      },
      "execution_count": null,
      "outputs": []
    },
    {
      "cell_type": "markdown",
      "source": [
        "### Say what Language you're learning"
      ],
      "metadata": {
        "id": "Z8FbBgeKl_ly"
      }
    },
    {
      "cell_type": "code",
      "source": [
        "language = \"chinese (with pinyin pronunciation guides)\""
      ],
      "metadata": {
        "id": "bj8yO63Nl_v8"
      },
      "execution_count": null,
      "outputs": []
    },
    {
      "cell_type": "markdown",
      "source": [
        "### Give it the response format"
      ],
      "metadata": {
        "id": "wyN9HKe2mH1N"
      }
    },
    {
      "cell_type": "code",
      "source": [
        "response_format = '[{\"word\": \"\", \"pinyin\": \"\", \"meaning\": \"\"}, ... ]'"
      ],
      "metadata": {
        "id": "tR5it580mH8m"
      },
      "execution_count": null,
      "outputs": []
    },
    {
      "cell_type": "markdown",
      "source": [
        "### Send the response"
      ],
      "metadata": {
        "id": "D-thuqRSmc8U"
      }
    },
    {
      "cell_type": "code",
      "source": [
        "prompt = f\"\"\"\n",
        "    provide a list of vocabulary flashcards for learning {language} using the following list of comma separated words: {words}\n",
        "\n",
        "    Provide your response as a JSON object with the following schema: {response_format}\n",
        "\"\"\".strip()\n",
        "\n",
        "# this takes like 5-10 seconds\n",
        "response = get_completion(prompt)"
      ],
      "metadata": {
        "id": "bQt0fOEHjJdn"
      },
      "execution_count": null,
      "outputs": []
    },
    {
      "cell_type": "markdown",
      "source": [
        "### Parse the output"
      ],
      "metadata": {
        "id": "Xx2GP0g-mffC"
      }
    },
    {
      "cell_type": "code",
      "source": [
        "import json\n",
        "\n",
        "words = json.loads(response)\n",
        "words"
      ],
      "metadata": {
        "colab": {
          "base_uri": "https://localhost:8080/"
        },
        "id": "GhLJWSS5jNOy",
        "outputId": "d706341c-877e-43fd-d9ab-1ebcc1d9d794"
      },
      "execution_count": null,
      "outputs": [
        {
          "output_type": "execute_result",
          "data": {
            "text/plain": [
              "[{'word': '姜', 'pinyin': 'jiāng', 'meaning': 'ginger'},\n",
              " {'word': '盐', 'pinyin': 'yán', 'meaning': 'salt'},\n",
              " {'word': '糖', 'pinyin': 'táng', 'meaning': 'sugar'},\n",
              " {'word': '筷子', 'pinyin': 'kuàizi', 'meaning': 'chopsticks'},\n",
              " {'word': '豆腐', 'pinyin': 'dòufu', 'meaning': 'tofu'},\n",
              " {'word': '酱油', 'pinyin': 'jiàngyóu', 'meaning': 'soy sauce'},\n",
              " {'word': '辣椒油', 'pinyin': 'làjiāo yóu', 'meaning': 'chilli oil'},\n",
              " {'word': '辣椒酱', 'pinyin': 'làjiāo jiàng', 'meaning': 'chilli paste'}]"
            ]
          },
          "metadata": {},
          "execution_count": 23
        }
      ]
    },
    {
      "cell_type": "code",
      "source": [
        "words[0]"
      ],
      "metadata": {
        "colab": {
          "base_uri": "https://localhost:8080/"
        },
        "id": "qenOhh1jjS2H",
        "outputId": "7c61392b-3016-4d8a-9a4e-af48b6068e31"
      },
      "execution_count": null,
      "outputs": [
        {
          "output_type": "execute_result",
          "data": {
            "text/plain": [
              "{'word': '姜', 'pinyin': 'jiāng', 'meaning': 'ginger'}"
            ]
          },
          "metadata": {},
          "execution_count": 24
        }
      ]
    }
  ]
}